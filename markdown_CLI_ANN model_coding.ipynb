{
 "cells": [
  {
   "cell_type": "markdown",
   "metadata": {},
   "source": [
    "# Artificial neural networks (ANN) coding\n",
    "## For predicting the pressure loss coefficient (K) of 90degree bends \n",
    "\n",
    "#### This code is based on the Python 3.6.8 version and Tensorflow 1.12.0 version\n",
    "\n",
    "\n",
    "## Command-line interface (CLI) \n",
    "\n",
    "#### By using 'argparse module', we define variables that are used to predict the K(pressure loss coefficient) value "
   ]
  },
  {
   "cell_type": "code",
   "execution_count": null,
   "metadata": {},
   "outputs": [],
   "source": [
    "import warnings\n",
    "warnings.filterwarnings(action='ignore')\n",
    "\n",
    "import tensorflow as tf\n",
    "import numpy as np\n",
    "import math\n",
    "import argparse\n",
    "import os\n",
    "os.environ['TF_CPP_MIN_LOG_LEVEL']='2'\n",
    "\n",
    "parser=argparse.ArgumentParser(description=\"Prediction of the pressure loss coefficient of 90degree bends\")\n",
    "parser.add_argument('-d','--diameter',metavar='', required=True, type=float, help='Diameter of pipe [m]')\n",
    "parser.add_argument('-R','--radius',metavar='', required=True, type=float, help='Radius of curvature [m]')\n",
    "parser.add_argument('-rho','--density',metavar='', required=True, type=float, help='Density [kg/m3]')\n",
    "parser.add_argument('-mu','--viscosity',metavar='', required=True, type=float, help='Dynamic  Viscosity [kg/ms]')\n",
    "parser.add_argument('-Q','--flowrate', metavar='', required=True, type=float, help='Volume flow rate [m3/s]')\n",
    "\n",
    "args=parser.parse_args()"
   ]
  },
  {
   "cell_type": "markdown",
   "metadata": {},
   "source": [
    "## ANN model structure\n",
    "\n",
    "#### This ANN model consists of 20 neurons in a hidden layer and use sigmoid function"
   ]
  },
  {
   "cell_type": "code",
   "execution_count": null,
   "metadata": {},
   "outputs": [],
   "source": [
    "X=tf.placeholder(tf.float32 , shape=[None,2])\n",
    "Y=tf.placeholder(tf.float32 , shape=[None,1])\n",
    "\n",
    "w1=tf.get_variable(\"w1\", shape=[2,20],initializer=tf.contrib.layers.variance_scaling_initializer())\n",
    "b1=tf.Variable(tf.random_uniform([1], minval=0., maxval=1), name='bias1')\n",
    "layer1=tf.sigmoid(tf.matmul(X,w1)+b1)\n",
    "\n",
    "\n",
    "w2=tf.get_variable(\"w2\", shape=[20,1],initializer=tf.contrib.layers.variance_scaling_initializer())\n",
    "b2=tf.Variable(tf.random_uniform([1], minval=0., maxval=1), name='bias2')\n",
    "hypo=tf.matmul(layer1,w2)+b2\n",
    "\n",
    "cost=tf.reduce_mean(tf.square(hypo-Y))\n",
    "\n",
    "saver = tf.train.Saver()"
   ]
  },
  {
   "cell_type": "markdown",
   "metadata": {},
   "source": [
    "## Processing input data\n",
    "\n",
    "#### The entered information is processed as input variables of the ANN model"
   ]
  },
  {
   "cell_type": "code",
   "execution_count": null,
   "metadata": {},
   "outputs": [],
   "source": [
    "velocity = (4*args.flowrate)/(args.diameter*args.diameter*math.pi)\n",
    "\n",
    "Velocity = round(velocity,2)\n",
    "\n",
    "Re = (args.density*Velocity*args.diameter)/args.viscosity\n",
    "\n",
    "PIRNT_Re=round(Re,2)\n",
    "\n",
    "Re_log = math.log10(Re)\n",
    "\n",
    "Rr = args.radius/(args.diameter/2)\n",
    "\n",
    "PIRNT_Rr = round(Rr,2)"
   ]
  },
  {
   "cell_type": "markdown",
   "metadata": {},
   "source": [
    "## Trained ANN model load & prediction\n",
    "\n",
    "#### The ANN model predicts the pressure loss coefficient by using input variables\n",
    "#### In addition, the pressure drop of a 90degree bend is calculated by using the K value"
   ]
  },
  {
   "cell_type": "code",
   "execution_count": null,
   "metadata": {},
   "outputs": [],
   "source": [
    "save_file = './K_90bend.ckpt'\n",
    "saver = tf.train.Saver()\n",
    "\n",
    "with tf.Session() as sess:\n",
    "    saver.restore(sess, save_file)\n",
    "\n",
    "    feed_input = np.array([[Re_log,Rr]])\n",
    "\n",
    "    prediction = sess.run(hypo, feed_dict={X : feed_input})\n",
    "\n",
    "    prediction_result = prediction[0,0]\n",
    "    \n",
    "    pressure_drop = prediction_result*args.density*0.5*Velocity*Velocity\n",
    "\n",
    "    Pressure_drop = round(pressure_drop,2)\n",
    "   \n",
    "    print(\"---Prediction of pressure loss coefficient---\\n\")\n",
    "    print(\"Prsssure loss coefficient = %f \\n\\n\" %prediction_result)\n",
    "    print(\"---------Calculation of pressure drop--------\\n\\n\")\n",
    "    print(\"Reynolds number:%f \\n\" %PIRNT_Re)\n",
    "    print(\"Velocity (m/s):%f \\n\" %Velocity)\n",
    "    print(\"Pressure drop (Pa): %f\" %Pressure_drop)"
   ]
  },
  {
   "cell_type": "markdown",
   "metadata": {},
   "source": [
    "#### This ANN model can predict valid results in the range below\n",
    "\n",
    "#### - 10,000 < Reynolds number (Re) < 600,000\n",
    "#### - 1.1 < R/r < 58.4\n",
    "\n",
    "#### Copyright 2021.(AFNTL at Chonnam National University) all rights reserved."
   ]
  }
 ],
 "metadata": {
  "kernelspec": {
   "display_name": "Python 3",
   "language": "python",
   "name": "python3"
  },
  "language_info": {
   "codemirror_mode": {
    "name": "ipython",
    "version": 3
   },
   "file_extension": ".py",
   "mimetype": "text/x-python",
   "name": "python",
   "nbconvert_exporter": "python",
   "pygments_lexer": "ipython3",
   "version": "3.6.8"
  }
 },
 "nbformat": 4,
 "nbformat_minor": 2
}
